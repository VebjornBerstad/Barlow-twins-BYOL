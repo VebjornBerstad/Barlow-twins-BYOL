{
 "cells": [
  {
   "cell_type": "code",
   "execution_count": 7,
   "metadata": {},
   "outputs": [],
   "source": [
    "import torch\n",
    "import torchvision.models as models\n",
    "from torchsummary import summary\n",
    "import torch\n",
    "import torch.nn as nn\n",
    "import torch.nn.functional as F\n",
    "import torchvision.transforms as T\n",
    "\n",
    "from models import SmallConvNet, barlowBYOL, mlp, LinearEvalModel"
   ]
  },
  {
   "cell_type": "code",
   "execution_count": 10,
   "metadata": {},
   "outputs": [
    {
     "name": "stdout",
     "output_type": "stream",
     "text": [
      "----------------------------------------------------------------\n",
      "        Layer (type)               Output Shape         Param #\n",
      "================================================================\n",
      "            Conv2d-1           [-1, 16, 32, 32]             448\n",
      "              ReLU-2           [-1, 16, 32, 32]               0\n",
      "         MaxPool2d-3           [-1, 16, 16, 16]               0\n",
      "            Conv2d-4           [-1, 32, 16, 16]           4,640\n",
      "              ReLU-5           [-1, 32, 16, 16]               0\n",
      "         MaxPool2d-6             [-1, 32, 8, 8]               0\n",
      "            Linear-7                  [-1, 512]       1,049,088\n",
      "      SmallConvNet-8                  [-1, 512]               0\n",
      "            Linear-9                   [-1, 10]           5,130\n",
      "================================================================\n",
      "Total params: 1,059,306\n",
      "Trainable params: 1,059,306\n",
      "Non-trainable params: 0\n",
      "----------------------------------------------------------------\n",
      "Input size (MB): 0.01\n",
      "Forward/backward pass size (MB): 0.43\n",
      "Params size (MB): 4.04\n",
      "Estimated Total Size (MB): 4.48\n",
      "----------------------------------------------------------------\n"
     ]
    }
   ],
   "source": [
    "# Create an example model\n",
    "barlow_byol = barlowBYOL(encoder=SmallConvNet(512), projector=mlp(512), image_size=(32, 32), lr=3e-4, tau=0.99)\n",
    "# model = barlow_byol.online[0]\n",
    "\n",
    "model = nn.Sequential(\n",
    "            barlow_byol.online[0],\n",
    "            nn.Linear(512, 10)\n",
    "            )\n",
    "\n",
    "# Check if you have a GPU available and move the model to the GPU if possible\n",
    "device = torch.device(\"cuda\" if torch.cuda.is_available() else \"cpu\")\n",
    "model.to(device)\n",
    "\n",
    "# Print the summary of the model\n",
    "input_size = (3, 32, 32) # Input size should be in the format (C, H, W)\n",
    "summary(model, input_size, device=device.type)"
   ]
  },
  {
   "cell_type": "code",
   "execution_count": null,
   "metadata": {},
   "outputs": [],
   "source": [
    "class BarlowTwinsTransform:\n",
    "    def __init__(self, train=True, input_height=224, gaussian_blur=True, jitter_strength=1.0, normalize=None):\n",
    "        self.input_height = input_height\n",
    "        self.gaussian_blur = gaussian_blur\n",
    "        self.jitter_strength = jitter_strength\n",
    "        self.normalize = normalize\n",
    "        self.train = train\n",
    "\n",
    "        color_jitter = transforms.ColorJitter(\n",
    "            0.8 * self.jitter_strength,\n",
    "            0.8 * self.jitter_strength,\n",
    "            0.8 * self.jitter_strength,\n",
    "            0.2 * self.jitter_strength,\n",
    "        )\n",
    "\n",
    "        color_transform = [transforms.RandomApply([color_jitter], p=0.8), transforms.RandomGrayscale(p=0.2)]\n",
    "\n",
    "        if self.gaussian_blur:\n",
    "            kernel_size = int(0.1 * self.input_height)\n",
    "            if kernel_size % 2 == 0:\n",
    "                kernel_size += 1\n",
    "\n",
    "            color_transform.append(transforms.RandomApply([transforms.GaussianBlur(kernel_size=kernel_size)], p=0.5))\n",
    "\n",
    "        self.color_transform = transforms.Compose(color_transform)\n",
    "\n",
    "        if normalize is None:\n",
    "            self.final_transform = transforms.ToTensor()\n",
    "        else:\n",
    "            self.final_transform = transforms.Compose([transforms.ToTensor(), normalize])\n",
    "\n",
    "        self.transform = transforms.Compose(\n",
    "            [\n",
    "                transforms.RandomResizedCrop(self.input_height),\n",
    "                transforms.RandomHorizontalFlip(p=0.5),\n",
    "                self.color_transform,\n",
    "                self.final_transform,\n",
    "            ]\n",
    "        )\n",
    "\n",
    "        self.finetune_transform = None\n",
    "        if self.train:\n",
    "            self.finetune_transform = transforms.Compose(\n",
    "                [\n",
    "                    transforms.RandomCrop(32, padding=4, padding_mode=\"reflect\"),\n",
    "                    transforms.RandomHorizontalFlip(),\n",
    "                    transforms.ToTensor(),\n",
    "                ]\n",
    "            )\n",
    "        else:\n",
    "            self.finetune_transform = transforms.ToTensor()\n",
    "\n",
    "    def __call__(self, sample):\n",
    "        return self.transform(sample), self.transform(sample), self.finetune_transform(sample)"
   ]
  }
 ],
 "metadata": {
  "kernelspec": {
   "display_name": "barlow_byol",
   "language": "python",
   "name": "python3"
  },
  "language_info": {
   "codemirror_mode": {
    "name": "ipython",
    "version": 3
   },
   "file_extension": ".py",
   "mimetype": "text/x-python",
   "name": "python",
   "nbconvert_exporter": "python",
   "pygments_lexer": "ipython3",
   "version": "3.10.9"
  },
  "orig_nbformat": 4
 },
 "nbformat": 4,
 "nbformat_minor": 2
}
